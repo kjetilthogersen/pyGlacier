{
 "cells": [
  {
   "cell_type": "code",
   "execution_count": 1,
   "id": "bulgarian-reduction",
   "metadata": {},
   "outputs": [],
   "source": [
    "import pyGlacier as pg\n",
    "import matplotlib.pyplot as plt\n",
    "import numpy as np"
   ]
  },
  {
   "cell_type": "markdown",
   "id": "straight-sucking",
   "metadata": {},
   "source": [
    "Firs, let us set up a simple solver using the shallow ice approximation with no sliding.\n",
    "\n",
    "We will then compare it to the analytical 1D solution by Buler et al (\"Exact time-depentent similarity solutions for isothermal shallow ice sheets\")\n",
    "\n",
    "First, we create a function that returns the analytical solution for a given position r, the combination of rheology parameters gamma, and time."
   ]
  },
  {
   "cell_type": "code",
   "execution_count": 2,
   "id": "adopted-breast",
   "metadata": {},
   "outputs": [],
   "source": [
    "def halfar(t,r,gamma): # Returns the analytical solution at a given time\n",
    "    H1 = 5e4\n",
    "    n = 3.0\n",
    "    alpha = 1.0/11.0\n",
    "    lmbd = ((n+2)*alpha/gamma)**(1.0/n)*(2.0*n+1.0)/(n+1.0)\n",
    "    theta = H1**((2.0*n+1.0)/(n+1.0))*lmbd**(-n/(n+1.0))\n",
    "    H = np.zeros(np.size(r))\n",
    "    H[np.where(abs(r)<=theta*t**(alpha))] = t**(-alpha)*(H1**((2.0*n+1.0)/n) - lmbd*(t**(-alpha)*abs(r[np.where(abs(r)<=theta*t**(alpha))]))**((n+1.0)/n))**(n/(2.0*n+1.0))\n",
    "    return H"
   ]
  },
  {
   "cell_type": "code",
   "execution_count": 3,
   "id": "identical-scott",
   "metadata": {},
   "outputs": [
    {
     "data": {
      "image/png": "[encoded data removed]",
      "text/plain": [
       "<Figure size 432x288 with 1 Axes>"
      ]
     },
     "metadata": {
      "needs_background": "light"
     },
     "output_type": "display_data"
    }
   ],
   "source": [
    "A = 1e-24 \n",
    "rho = 900.0 #Ice density\n",
    "g = 9.8\n",
    "n = 3.0\n",
    "x = np.linspace(-1e6,1e6,1000)\n",
    "dx = x[1]-x[0]\n",
    "b = np.zeros(np.size(x))\n",
    "gamma = A*2.0*(rho*g)**n\n",
    "t0 = 100\n",
    "H_analytical = halfar(t0,x,gamma)\n",
    "\n",
    "# Plot initial state (halfar solution)\n",
    "fig = plt.figure()\n",
    "ax = fig.add_subplot(111)\n",
    "ax.plot(x,H_analytical, 'b-', label='Initial thickness')\n",
    "plt.xlabel('x [m]')\n",
    "plt.ylabel('y [m]')\n",
    "ax.legend()\n",
    "plt.show()"
   ]
  },
  {
   "cell_type": "markdown",
   "id": "severe-boating",
   "metadata": {},
   "source": [
    "Set up variable structure as a dictionary"
   ]
  },
  {
   "cell_type": "code",
   "execution_count": 4,
   "id": "single-correspondence",
   "metadata": {},
   "outputs": [
    {
     "name": "stdout",
     "output_type": "stream",
     "text": [
      "********** INITIALIZING FLOWLINE **********\n",
      "Solver: SIA\n",
      "FrictionLaw: None\n",
      "DrainageSystem: None\n",
      "*******************************************\n",
      "********** RUN **********\n",
      "t max: 0.9981747661419119 years\n",
      "dt:100.0 s\n",
      "**************************\n",
      "0.03993015945445788 years, dt = 100.0s\n",
      "0.07985715010013436 years, dt = 100.0s\n",
      "0.11978414074581084 years, dt = 100.0s\n",
      "0.15971113139148732 years, dt = 100.0s\n",
      "0.1996381220371638 years, dt = 100.0s\n",
      "0.23956511268284025 years, dt = 100.0s\n",
      "0.27949210332851676 years, dt = 100.0s\n",
      "0.3194190939741932 years, dt = 100.0s\n",
      "0.3593460846198697 years, dt = 100.0s\n",
      "0.3992730752655462 years, dt = 100.0s\n",
      "0.4392000659112226 years, dt = 100.0s\n",
      "0.47912705655689913 years, dt = 100.0s\n",
      "0.5190540472025756 years, dt = 100.0s\n",
      "0.558981037848252 years, dt = 100.0s\n",
      "0.5989080284939285 years, dt = 100.0s\n",
      "0.638835019139605 years, dt = 100.0s\n",
      "0.6787620097852816 years, dt = 100.0s\n",
      "0.718689000430958 years, dt = 100.0s\n",
      "0.7586159910766345 years, dt = 100.0s\n",
      "0.798542981722311 years, dt = 100.0s\n",
      "0.8384699723679875 years, dt = 100.0s\n",
      "0.8783969630136639 years, dt = 100.0s\n",
      "0.9183239536593404 years, dt = 100.0s\n",
      "0.9582509443050169 years, dt = 100.0s\n"
     ]
    },
    {
     "data": {
      "text/plain": [
       "0"
      ]
     },
     "execution_count": 4,
     "metadata": {},
     "output_type": "execute_result"
    }
   ],
   "source": [
    "def SMB(model):\n",
    "    return 0*model.b\n",
    "\n",
    "variables = {\n",
    "'solver': \n",
    "    {'ID': 'SIA', # Choose the SIA solver\n",
    "    'variables':{\n",
    "        'rho': rho, # ice density\n",
    "        'g': g, # gravitational acceleration\n",
    "        'n': n, #Glen's expionent\n",
    "        't': t0, # initial time (s)\n",
    "        'A': A, # Rheology constant\n",
    "        'H': H_analytical, # Initial ice thickness set to the analytical solution at t0\n",
    "        'b': b, # topography\n",
    "        'dx': dx, # Spatial resolution\n",
    "        'SMB': SMB}, # Surface mass balance (set to 0)\n",
    "    'boundaryConditions':{\n",
    "        'left':{\n",
    "            'type': 'thickness', # thickness or surface slope\n",
    "            'val': 0},\n",
    "        'right':{\n",
    "        'type': 'thickness',\n",
    "        'val': 0} } },\n",
    "'DrainageSystem': # No drainage system\n",
    "    {'ID': 'None'},\n",
    "'FrictionLaw': #No sliding\n",
    "    {'ID': 'None'},\n",
    "'Output': # No output\n",
    "    {'ID': 'None'}\n",
    "}\n",
    "\n",
    "# Create glacier object and run simulation\n",
    "glacier = pg.Flowline(variables = variables)\n",
    "glacier.run(t_max = 3.15e7, dt = 1e2) # run for 1 year with time step 100s"
   ]
  },
  {
   "cell_type": "code",
   "execution_count": 5,
   "id": "color-parts",
   "metadata": {},
   "outputs": [
    {
     "data": {
      "image/png": "[encoded data removed]",
      "text/plain": [
       "<Figure size 432x288 with 1 Axes>"
      ]
     },
     "metadata": {
      "needs_background": "light"
     },
     "output_type": "display_data"
    }
   ],
   "source": [
    "# Plot analytical and numerical solution\n",
    "fig = plt.figure()\n",
    "ax = fig.add_subplot(111)\n",
    "H_analytical = halfar(glacier.t,x,gamma) # Analytical solution\n",
    "ax.plot(x,H_analytical, 'b-', label='Analytical solution')\n",
    "ax.plot(x,glacier.H, 'r--', label='Numerical solution')\n",
    "plt.xlabel('x [m]')\n",
    "plt.ylabel('y [m]')\n",
    "ax.legend()\n",
    "plt.show()"
   ]
  },
  {
   "cell_type": "markdown",
   "id": "active-school",
   "metadata": {},
   "source": [
    "It is also possible to add an interesting topography, as well as a non-zero surface mass balance term. Let's set up a new glacier with the same variables as before, but with a new topography and a new surface mass balance:"
   ]
  },
  {
   "cell_type": "code",
   "execution_count": 6,
   "id": "amino-canal",
   "metadata": {},
   "outputs": [
    {
     "name": "stdout",
     "output_type": "stream",
     "text": [
      "********** INITIALIZING FLOWLINE **********\n",
      "Solver: SIA\n",
      "FrictionLaw: None\n",
      "DrainageSystem: None\n",
      "*******************************************\n",
      "********** RUN **********\n",
      "t max: 19.963495322838238 years\n",
      "dt:100000.0 s\n",
      "**************************\n",
      "0.798542981722311 years, dt = 100000.0s\n",
      "1.5970827946358406 years, dt = 100000.0s\n",
      "2.39562260754937 years, dt = 100000.0s\n",
      "3.1941624204628996 years, dt = 100000.0s\n",
      "3.9927022333764293 years, dt = 100000.0s\n",
      "4.791242046289959 years, dt = 100000.0s\n",
      "5.589781859203488 years, dt = 100000.0s\n",
      "6.3883216721170175 years, dt = 100000.0s\n",
      "7.186861485030548 years, dt = 100000.0s\n",
      "7.985401297944077 years, dt = 100000.0s\n",
      "8.783941110857606 years, dt = 100000.0s\n",
      "9.582480923771136 years, dt = 100000.0s\n",
      "10.381020736684665 years, dt = 100000.0s\n",
      "11.179560549598195 years, dt = 100000.0s\n",
      "11.978100362511725 years, dt = 100000.0s\n",
      "12.776640175425253 years, dt = 100000.0s\n",
      "13.575179988338784 years, dt = 100000.0s\n",
      "14.373719801252314 years, dt = 100000.0s\n",
      "15.172259614165842 years, dt = 100000.0s\n",
      "15.970799427079372 years, dt = 100000.0s\n",
      "16.769339239992902 years, dt = 100000.0s\n",
      "17.56787905290643 years, dt = 100000.0s\n",
      "18.36641886581996 years, dt = 100000.0s\n",
      "19.16495867873349 years, dt = 100000.0s\n",
      "19.96349849164702 years, dt = 100000.0s\n",
      "********** RUN **********\n",
      "t max: 39.926990645676476 years\n",
      "dt:100000.0 s\n",
      "**************************\n",
      "21.56057811747408 years, dt = 100000.0s\n",
      "23.157657743301137 years, dt = 100000.0s\n",
      "24.754737369128197 years, dt = 100000.0s\n",
      "26.351816994955257 years, dt = 100000.0s\n",
      "27.948896620782314 years, dt = 100000.0s\n",
      "29.545976246609374 years, dt = 100000.0s\n",
      "31.143055872436435 years, dt = 100000.0s\n",
      "32.74013549826349 years, dt = 100000.0s\n",
      "34.337215124090555 years, dt = 100000.0s\n",
      "35.93429474991761 years, dt = 100000.0s\n",
      "37.53137437574467 years, dt = 100000.0s\n",
      "39.12845400157173 years, dt = 100000.0s\n"
     ]
    },
    {
     "data": {
      "image/png": "[encoded data removed]",
      "text/plain": [
       "<Figure size 1440x360 with 1 Axes>"
      ]
     },
     "metadata": {
      "needs_background": "light"
     },
     "output_type": "display_data"
    }
   ],
   "source": [
    "x = np.linspace(0,2e4,1000)\n",
    "dx = x[1]-x[0]\n",
    "\n",
    "tmp = np.exp(-(x-10000)**2/1e2**2); tmp = tmp/np.sum(tmp)\n",
    "\n",
    "b = np.convolve(2000*np.exp(-(x-10000)**2/5e3**2) + 500*np.random.rand(np.size(x)), tmp, mode='same')-500\n",
    "\n",
    "def SMB(model):\n",
    "    return (model.b+model.H-1000.0)*1e-3/(3.15e7)*5\n",
    "\n",
    "variables = {\n",
    "'solver': \n",
    "    {'ID': 'SIA', # Choose the SIA solver\n",
    "    'variables':{\n",
    "        'rho': rho, # ice density\n",
    "        'g': g, # gravitational acceleration\n",
    "        'n': n, #Glen's expionent\n",
    "        't': t0, # initial time (s)\n",
    "        'A': A, # Rheology constant\n",
    "        'H': b*0, # Initial ice thickness is zero\n",
    "        'b': b, # topography\n",
    "        'dx': dx, # Spatial resolution\n",
    "        'SMB': SMB}, # Surface mass balance (set to 0 function)\n",
    "    'boundaryConditions':{\n",
    "        'left':{\n",
    "            'type': 'thickness', # thickness, surface slope\n",
    "            'val': 0},\n",
    "        'right':{\n",
    "        'type': 'thickness',\n",
    "        'val': 0} } },\n",
    "'DrainageSystem': # No drainage system\n",
    "    {'ID': 'None'},\n",
    "'FrictionLaw': #No sliding\n",
    "    {'ID': 'None'},\n",
    "'Output': # No output\n",
    "    {'ID': 'None'}\n",
    "}\n",
    "\n",
    "# Create glacier object and run simulation\n",
    "glacier = pg.Flowline(variables = variables)\n",
    "fig = plt.figure(figsize=(20,5))\n",
    "for i in range(10):\n",
    "    glacier.run(t_max = (i+1)*20*3.15e7, dt = 1e5) # run for 20 year with time step 10^5s\n",
    "    plt.plot(glacier.x,glacier.H+glacier.b)\n",
    "\n",
    "plt.plot(glacier.x,glacier.b, 'k')\n",
    "plt.xlabel('x [m]')\n",
    "plt.ylabel('y [m]')\n",
    "ax.legend()\n",
    "plt.show()"
   ]
  },
  {
   "cell_type": "code",
   "execution_count": null,
   "id": "ranging-horror",
   "metadata": {},
   "outputs": [],
   "source": []
  },
  {
   "cell_type": "code",
   "execution_count": null,
   "id": "adjacent-living",
   "metadata": {},
   "outputs": [],
   "source": [
    "\n"
   ]
  },
  {
   "cell_type": "code",
   "execution_count": null,
   "id": "special-excitement",
   "metadata": {},
   "outputs": [],
   "source": []
  },
  {
   "cell_type": "code",
   "execution_count": null,
   "id": "korean-conspiracy",
   "metadata": {},
   "outputs": [],
   "source": []
  },
  {
   "cell_type": "code",
   "execution_count": null,
   "id": "cathedral-knight",
   "metadata": {},
   "outputs": [],
   "source": []
  },
  {
   "cell_type": "code",
   "execution_count": null,
   "id": "acute-start",
   "metadata": {},
   "outputs": [],
   "source": []
  },
  {
   "cell_type": "code",
   "execution_count": null,
   "id": "daily-empire",
   "metadata": {},
   "outputs": [],
   "source": []
  },
  {
   "cell_type": "code",
   "execution_count": null,
   "id": "superior-barrier",
   "metadata": {},
   "outputs": [],
   "source": []
  },
  {
   "cell_type": "code",
   "execution_count": null,
   "id": "wrong-election",
   "metadata": {},
   "outputs": [],
   "source": []
  },
  {
   "cell_type": "code",
   "execution_count": null,
   "id": "green-enzyme",
   "metadata": {},
   "outputs": [],
   "source": []
  },
  {
   "cell_type": "code",
   "execution_count": null,
   "id": "fixed-federation",
   "metadata": {},
   "outputs": [],
   "source": []
  },
  {
   "cell_type": "code",
   "execution_count": null,
   "id": "adopted-hunter",
   "metadata": {},
   "outputs": [],
   "source": []
  },
  {
   "cell_type": "code",
   "execution_count": null,
   "id": "numeric-committee",
   "metadata": {},
   "outputs": [],
   "source": []
  }
 ],
 "metadata": {
  "kernelspec": {
   "display_name": "Python 3",
   "language": "python",
   "name": "python3"
  },
  "language_info": {
   "codemirror_mode": {
    "name": "ipython",
    "version": 3
   },
   "file_extension": ".py",
   "mimetype": "text/x-python",
   "name": "python",
   "nbconvert_exporter": "python",
   "pygments_lexer": "ipython3",
   "version": "3.7.2"
  }
 },
 "nbformat": 4,
 "nbformat_minor": 5
}
